{
 "cells": [
  {
   "cell_type": "code",
   "execution_count": 1,
   "metadata": {
    "id": "r6U0Y366l-a0"
   },
   "outputs": [],
   "source": [
    "import pandas as pd\n",
    "import matplotlib.pyplot as plt"
   ]
  },
  {
   "cell_type": "code",
   "execution_count": 2,
   "metadata": {
    "colab": {
     "base_uri": "https://localhost:8080/",
     "height": 265
    },
    "id": "cCyuzrg4mRvW",
    "outputId": "9ea579a0-6184-4d03-a0c9-24b8e0605705"
   },
   "outputs": [
    {
     "data": {
      "image/png": "[encoded data removed]",
      "text/plain": [
       "<Figure size 432x288 with 1 Axes>"
      ]
     },
     "metadata": {
      "needs_background": "light"
     },
     "output_type": "display_data"
    }
   ],
   "source": [
    "file = pd.read_csv('churn.csv')\n",
    "plt.hist(file['number_customer_service_calls'], bins=10)\n",
    "plt.show()"
   ]
  },
  {
   "cell_type": "code",
   "execution_count": 4,
   "metadata": {
    "colab": {
     "base_uri": "https://localhost:8080/",
     "height": 265
    },
    "id": "O03hZsLBmULq",
    "outputId": "e6493561-6fae-418e-8abc-7bdac478307b"
   },
   "outputs": [
    {
     "data": {
      "image/png": "[encoded data removed]",
      "text/plain": [
       "<Figure size 432x288 with 1 Axes>"
      ]
     },
     "metadata": {
      "needs_background": "light"
     },
     "output_type": "display_data"
    }
   ],
   "source": [
    "total_minutes = []\n",
    "for i, j in enumerate(file['total_day_minutes']):\n",
    "  total_minutes.append(file['total_eve_minutes'][i] + j + file['total_night_minutes'][i])\n",
    "file['total_minutes'] = total_minutes\n",
    "plt.hist(total_minutes, bins=20)\n",
    "plt.show()"
   ]
  },
  {
   "cell_type": "code",
   "execution_count": 5,
   "metadata": {
    "colab": {
     "base_uri": "https://localhost:8080/"
    },
    "id": "hlTOenb_ouQv",
    "outputId": "d1e8c86c-a64f-40cd-d147-ecbcc17be68e"
   },
   "outputs": [
    {
     "name": "stdout",
     "output_type": "stream",
     "text": [
      "correlation is: -0.0010686094516627884\n"
     ]
    }
   ],
   "source": [
    "x = 0\n",
    "y = 0\n",
    "xy = 0\n",
    "x2 = 0\n",
    "y2 = 0\n",
    "for i, j in enumerate(file['number_customer_service_calls']):\n",
    "  y = y + j\n",
    "  x = x + total_minutes[i]\n",
    "  xy = xy + (j*total_minutes[i])\n",
    "  y2 = y2 + (j*j)\n",
    "  x2 = x2 + (total_minutes[i]*total_minutes[i])\n",
    "n = len(file['number_customer_service_calls'])\n",
    "a = (n*xy) - (x)*(y)\n",
    "b = ((n*x2 - x2)*(n*y2 - y2)) ** .5\n",
    "r = a/b\n",
    "print('correlation is: '+str(r))"
   ]
  },
  {
   "cell_type": "code",
   "execution_count": 8,
   "metadata": {
    "colab": {
     "base_uri": "https://localhost:8080/",
     "height": 282
    },
    "id": "wGOh0fAz0dJJ",
    "outputId": "bdedf56c-bf69-4edb-e163-1c9781762070"
   },
   "outputs": [
    {
     "data": {
      "text/plain": [
       "<Figure size 432x288 with 0 Axes>"
      ]
     },
     "metadata": {},
     "output_type": "display_data"
    },
    {
     "data": {
      "image/png": "[encoded data removed]",
      "text/plain": [
       "<Figure size 432x288 with 1 Axes>"
      ]
     },
     "metadata": {
      "needs_background": "light"
     },
     "output_type": "display_data"
    }
   ],
   "source": [
    "x = []\n",
    "y = []\n",
    "x1 = []\n",
    "y1 = []\n",
    "for i, j in enumerate(file['number_customer_service_calls']):\n",
    "  if j*total_minutes[i] < 500:\n",
    "    x1.append(total_minutes[i])\n",
    "    y1.append(j)\n",
    "  else:\n",
    "    x.append(total_minutes[i])\n",
    "    y.append(j)\n",
    "plt.clf()\n",
    "fig, ax = plt.subplots()\n",
    "ax.scatter(x, y, color='b')\n",
    "ax.scatter(x1, y1, color='r')\n",
    "plt.show()"
   ]
  },
  {
   "cell_type": "code",
   "execution_count": 11,
   "metadata": {
    "colab": {
     "base_uri": "https://localhost:8080/"
    },
    "id": "FFcLeQMX39ZV",
    "outputId": "149cfb5f-ad52-48b8-f683-c06d981c114d"
   },
   "outputs": [
    {
     "name": "stdout",
     "output_type": "stream",
     "text": [
      "     state  account_length  area_code phone_number international_plan  \\\n",
      "289     OK              89        510     352-6976                 no   \n",
      "985     NY              64        415     345-9140                yes   \n",
      "4271    MO             103        415     370-4667                 no   \n",
      "3205    MS             111        408     345-3787                 no   \n",
      "4991    AZ              97        510     410-3888                 no   \n",
      "\n",
      "     voice_mail_plan  number_vmail_messages  total_day_minutes  \\\n",
      "289               no                      0              303.9   \n",
      "985               no                      0              346.8   \n",
      "4271             yes                     37              230.7   \n",
      "3205              no                      0              294.7   \n",
      "4991              no                      0              252.6   \n",
      "\n",
      "      total_day_calls  total_day_charge  ...  total_eve_charge  \\\n",
      "289                95             51.66  ...             22.18   \n",
      "985                55             58.96  ...             21.21   \n",
      "4271              112             39.22  ...             27.15   \n",
      "3205               90             50.10  ...             25.04   \n",
      "4991               89             42.94  ...             28.93   \n",
      "\n",
      "      total_night_minutes  total_night_calls  total_night_charge  \\\n",
      "289                 312.1                 89               14.04   \n",
      "985                 275.4                102               12.39   \n",
      "4271                299.4                 77               13.47   \n",
      "3205                260.1                121               11.70   \n",
      "4991                256.5                 67               11.54   \n",
      "\n",
      "      total_intl_minutes  total_intl_calls  total_intl_charge  \\\n",
      "289                  5.3                 3               1.43   \n",
      "985                 13.3                 9               3.59   \n",
      "4271                 7.9                 3               2.13   \n",
      "3205                10.8                 3               2.92   \n",
      "4991                 8.8                 5               2.38   \n",
      "\n",
      "      number_customer_service_calls  churned  total_minutes  \n",
      "289                               1     True          876.9  \n",
      "985                               1     True          871.7  \n",
      "4271                              2    False          849.5  \n",
      "3205                              1     True          849.4  \n",
      "4991                              1     True          849.4  \n",
      "\n",
      "[5 rows x 22 columns]\n",
      "\n",
      "\n",
      "     state  account_length  area_code phone_number international_plan  \\\n",
      "648     WI             131        415     331-3174                 no   \n",
      "1233    IL              48        510     380-5246                 no   \n",
      "3779    MN             141        408     362-8044                 no   \n",
      "1986    WI              70        415     405-9233                 no   \n",
      "992     MI              45        510     375-8934                 no   \n",
      "\n",
      "     voice_mail_plan  number_vmail_messages  total_day_minutes  \\\n",
      "648              yes                     39               69.1   \n",
      "1233              no                      0              128.2   \n",
      "3779              no                      0               77.8   \n",
      "1986              no                      0                7.9   \n",
      "992              yes                     26               91.7   \n",
      "\n",
      "      total_day_calls  total_day_charge  ...  total_eve_charge  \\\n",
      "648               122             11.75  ...              8.61   \n",
      "1233               71             21.79  ...              4.09   \n",
      "3779              123             13.23  ...             12.27   \n",
      "1986              100              1.34  ...             11.59   \n",
      "992               104             15.59  ...             12.80   \n",
      "\n",
      "      total_night_minutes  total_night_calls  total_night_charge  \\\n",
      "648                 104.8                 94                4.72   \n",
      "1233                116.3                 80                5.23   \n",
      "3779                 75.3                 65                3.39   \n",
      "1986                156.6                 89                7.05   \n",
      "992                  63.3                103                2.85   \n",
      "\n",
      "      total_intl_minutes  total_intl_calls  total_intl_charge  \\\n",
      "648                  9.1                 4               2.46   \n",
      "1233                 8.9                 3               2.40   \n",
      "3779                 5.7                 7               1.54   \n",
      "1986                12.1                 1               3.27   \n",
      "992                  7.7                 5               2.08   \n",
      "\n",
      "      number_customer_service_calls  churned  total_minutes  \n",
      "648                               0    False          275.2  \n",
      "1233                              0    False          292.6  \n",
      "3779                              1    False          297.5  \n",
      "1986                              0    False          300.9  \n",
      "992                               1    False          305.6  \n",
      "\n",
      "[5 rows x 22 columns]\n"
     ]
    }
   ],
   "source": [
    "print(str(file.nlargest(5, 'total_minutes')))\n",
    "print('\\n')\n",
    "print(str(file.nsmallest(5, 'total_minutes')))"
   ]
  },
  {
   "cell_type": "code",
   "execution_count": 14,
   "metadata": {
    "colab": {
     "base_uri": "https://localhost:8080/"
    },
    "id": "FU-r1w1W6GcS",
    "outputId": "0be96efb-b9da-4b9d-cea7-4c2472ee83bc"
   },
   "outputs": [
    {
     "name": "stdout",
     "output_type": "stream",
     "text": [
      "1.2846000362778889\n",
      "0.16993525991392774\n"
     ]
    }
   ],
   "source": [
    "print((file['number_customer_service_calls'][0]+total_minutes[0])/(file['number_customer_service_calls'][4999]+total_minutes[4999]))\n",
    "res = 0\n",
    "for i, j in enumerate(file['total_day_minutes']):\n",
    "  if not file['total_day_charge'][i]:\n",
    "    continue\n",
    "  res = res+(file['total_day_charge'][i]/j)\n",
    "print(res/5000)"
   ]
  },
  {
   "cell_type": "code",
   "execution_count": null,
   "metadata": {
    "id": "jmHJeh_wBO1N"
   },
   "outputs": [],
   "source": [
    "file = pd.get_dummies(file)\n",
    "x = []\n",
    "x_test = []\n",
    "#del file['area_code']\n",
    "for i in range(5000):\n",
    "  a = []\n",
    "  for j in file:\n",
    "    a.append(file[j][i])\n",
    "  if i < 4000:\n",
    "    x.append(a)\n",
    "  else:\n",
    "    x_test.append(a)"
   ]
  },
  {
   "cell_type": "code",
   "execution_count": 60,
   "metadata": {
    "id": "iYwyp1BpGqIm"
   },
   "outputs": [],
   "source": [
    "from sklearn.preprocessing import StandardScaler\n",
    "scaler = StandardScaler()\n",
    "scaler.fit(x)\n",
    "scaler.fit(x_test)\n",
    "x = scaler.transform(x)\n",
    "y = scaler.transform(x_test)"
   ]
  },
  {
   "cell_type": "code",
   "execution_count": 61,
   "metadata": {
    "id": "sLfYQbWXHTTJ"
   },
   "outputs": [],
   "source": [
    "from sklearn.cluster import DBSCAN"
   ]
  },
  {
   "cell_type": "code",
   "execution_count": null,
   "metadata": {
    "colab": {
     "base_uri": "https://localhost:8080/"
    },
    "id": "Ww8EnP3oHdZy",
    "outputId": "6e6f6e55-2034-4ffe-c062-48a8ea668ede"
   },
   "outputs": [
    {
     "name": "stdout",
     "output_type": "stream",
     "text": [
      "epoch: 0\n"
     ]
    }
   ],
   "source": [
    "model = DBSCAN(eps=3, min_samples=5)\n",
    "for i in range(5):\n",
    "  model.fit(x)\n",
    "  print('epoch: '+str(i+1))\n",
    "print('predictions:: '+str(model.predict(x_test)))"
   ]
  }
 ],
 "metadata": {
  "colab": {
   "name": "Untitled0.ipynb",
   "provenance": []
  },
  "kernelspec": {
   "display_name": "Python 3",
   "language": "python",
   "name": "python3"
  },
  "language_info": {
   "codemirror_mode": {
    "name": "ipython",
    "version": 3
   },
   "file_extension": ".py",
   "mimetype": "text/x-python",
   "name": "python",
   "nbconvert_exporter": "python",
   "pygments_lexer": "ipython3",
   "version": "3.8.5"
  }
 },
 "nbformat": 4,
 "nbformat_minor": 1
}
